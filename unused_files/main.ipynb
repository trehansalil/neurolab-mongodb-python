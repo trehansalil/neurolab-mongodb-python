{
 "cells": [
  {
   "cell_type": "code",
   "execution_count": 1,
   "metadata": {},
   "outputs": [
    {
     "ename": "APIError",
     "evalue": "{'code': 403, 'message': 'Request had insufficient authentication scopes.', 'errors': [{'message': 'Insufficient Permission', 'domain': 'global', 'reason': 'insufficientPermissions'}], 'status': 'PERMISSION_DENIED', 'details': [{'@type': 'type.googleapis.com/google.rpc.ErrorInfo', 'reason': 'ACCESS_TOKEN_SCOPE_INSUFFICIENT', 'domain': 'googleapis.com', 'metadata': {'service': 'drive.googleapis.com', 'method': 'google.apps.drive.v3.DriveFiles.List'}}]}",
     "output_type": "error",
     "traceback": [
      "\u001b[0;31m---------------------------------------------------------------------------\u001b[0m",
      "\u001b[0;31mAPIError\u001b[0m                                  Traceback (most recent call last)",
      "Cell \u001b[0;32mIn[1], line 11\u001b[0m\n\u001b[1;32m      8\u001b[0m client \u001b[38;5;241m=\u001b[39m gspread\u001b[38;5;241m.\u001b[39mauthorize(creds)\n\u001b[1;32m     10\u001b[0m \u001b[38;5;66;03m# Connect to Google Sheet and get data\u001b[39;00m\n\u001b[0;32m---> 11\u001b[0m sheet \u001b[38;5;241m=\u001b[39m \u001b[43mclient\u001b[49m\u001b[38;5;241;43m.\u001b[39;49m\u001b[43mopen\u001b[49m\u001b[43m(\u001b[49m\u001b[38;5;124;43m'\u001b[39;49m\u001b[38;5;124;43mAesthetic Software\u001b[39;49m\u001b[38;5;124;43m'\u001b[39;49m\u001b[43m)\u001b[49m\u001b[38;5;241m.\u001b[39mData\n\u001b[1;32m     12\u001b[0m data \u001b[38;5;241m=\u001b[39m sheet\u001b[38;5;241m.\u001b[39mget_all_records()\n\u001b[1;32m     14\u001b[0m \u001b[38;5;66;03m# # Set up MongoDB client\u001b[39;00m\n\u001b[1;32m     15\u001b[0m \u001b[38;5;66;03m# mongo_client = MongoClient('localhost', 27017)\u001b[39;00m\n\u001b[1;32m     16\u001b[0m \u001b[38;5;66;03m# db = mongo_client['database_name']\u001b[39;00m\n\u001b[0;32m   (...)\u001b[0m\n\u001b[1;32m     19\u001b[0m \u001b[38;5;66;03m# # Insert data into MongoDB collection\u001b[39;00m\n\u001b[1;32m     20\u001b[0m \u001b[38;5;66;03m# collection.insert_many(data)\u001b[39;00m\n",
      "File \u001b[0;32m~/.local/lib/python3.8/site-packages/gspread/client.py:152\u001b[0m, in \u001b[0;36mClient.open\u001b[0;34m(self, title, folder_id)\u001b[0m\n\u001b[1;32m    134\u001b[0m \u001b[39m\u001b[39m\u001b[39m\"\"\"Opens a spreadsheet.\u001b[39;00m\n\u001b[1;32m    135\u001b[0m \n\u001b[1;32m    136\u001b[0m \u001b[39m:param str title: A title of a spreadsheet.\u001b[39;00m\n\u001b[0;32m   (...)\u001b[0m\n\u001b[1;32m    147\u001b[0m \u001b[39m>>> gc.open('My fancy spreadsheet')\u001b[39;00m\n\u001b[1;32m    148\u001b[0m \u001b[39m\"\"\"\u001b[39;00m\n\u001b[1;32m    149\u001b[0m \u001b[39mtry\u001b[39;00m:\n\u001b[1;32m    150\u001b[0m     properties \u001b[39m=\u001b[39m finditem(\n\u001b[1;32m    151\u001b[0m         \u001b[39mlambda\u001b[39;00m x: x[\u001b[39m\"\u001b[39m\u001b[39mname\u001b[39m\u001b[39m\"\u001b[39m] \u001b[39m==\u001b[39m title,\n\u001b[0;32m--> 152\u001b[0m         \u001b[39mself\u001b[39;49m\u001b[39m.\u001b[39;49mlist_spreadsheet_files(title, folder_id),\n\u001b[1;32m    153\u001b[0m     )\n\u001b[1;32m    155\u001b[0m     \u001b[39m# Drive uses different terminology\u001b[39;00m\n\u001b[1;32m    156\u001b[0m     properties[\u001b[39m\"\u001b[39m\u001b[39mtitle\u001b[39m\u001b[39m\"\u001b[39m] \u001b[39m=\u001b[39m properties[\u001b[39m\"\u001b[39m\u001b[39mname\u001b[39m\u001b[39m\"\u001b[39m]\n",
      "File \u001b[0;32m~/.local/lib/python3.8/site-packages/gspread/client.py:127\u001b[0m, in \u001b[0;36mClient.list_spreadsheet_files\u001b[0;34m(self, title, folder_id)\u001b[0m\n\u001b[1;32m    124\u001b[0m \u001b[39mif\u001b[39;00m page_token:\n\u001b[1;32m    125\u001b[0m     params[\u001b[39m\"\u001b[39m\u001b[39mpageToken\u001b[39m\u001b[39m\"\u001b[39m] \u001b[39m=\u001b[39m page_token\n\u001b[0;32m--> 127\u001b[0m res \u001b[39m=\u001b[39m \u001b[39mself\u001b[39;49m\u001b[39m.\u001b[39;49mrequest(\u001b[39m\"\u001b[39;49m\u001b[39mget\u001b[39;49m\u001b[39m\"\u001b[39;49m, url, params\u001b[39m=\u001b[39;49mparams)\u001b[39m.\u001b[39mjson()\n\u001b[1;32m    128\u001b[0m files\u001b[39m.\u001b[39mextend(res[\u001b[39m\"\u001b[39m\u001b[39mfiles\u001b[39m\u001b[39m\"\u001b[39m])\n\u001b[1;32m    129\u001b[0m page_token \u001b[39m=\u001b[39m res\u001b[39m.\u001b[39mget(\u001b[39m\"\u001b[39m\u001b[39mnextPageToken\u001b[39m\u001b[39m\"\u001b[39m, \u001b[39mNone\u001b[39;00m)\n",
      "File \u001b[0;32m~/.local/lib/python3.8/site-packages/gspread/client.py:92\u001b[0m, in \u001b[0;36mClient.request\u001b[0;34m(self, method, endpoint, params, data, json, files, headers)\u001b[0m\n\u001b[1;32m     90\u001b[0m     \u001b[39mreturn\u001b[39;00m response\n\u001b[1;32m     91\u001b[0m \u001b[39melse\u001b[39;00m:\n\u001b[0;32m---> 92\u001b[0m     \u001b[39mraise\u001b[39;00m APIError(response)\n",
      "\u001b[0;31mAPIError\u001b[0m: {'code': 403, 'message': 'Request had insufficient authentication scopes.', 'errors': [{'message': 'Insufficient Permission', 'domain': 'global', 'reason': 'insufficientPermissions'}], 'status': 'PERMISSION_DENIED', 'details': [{'@type': 'type.googleapis.com/google.rpc.ErrorInfo', 'reason': 'ACCESS_TOKEN_SCOPE_INSUFFICIENT', 'domain': 'googleapis.com', 'metadata': {'service': 'drive.googleapis.com', 'method': 'google.apps.drive.v3.DriveFiles.List'}}]}"
     ]
    }
   ],
   "source": [
    "import gspread\n",
    "from oauth2client.service_account import ServiceAccountCredentials\n",
    "from pymongo import MongoClient\n",
    "\n",
    "# Set up Google Sheets API credentials\n",
    "scope = ['https://www.googleapis.com/auth/spreadsheets.readonly']\n",
    "creds = ServiceAccountCredentials.from_json_keyfile_name('medspa-project-383006-2bb12617f170.json', scope)\n",
    "client = gspread.authorize(creds)\n",
    "\n",
    "# Connect to Google Sheet and get data\n",
    "sheet = client.open('Aesthetic Software').Data\n",
    "data = sheet.get_all_records()\n",
    "\n",
    "# # Set up MongoDB client\n",
    "# mongo_client = MongoClient('localhost', 27017)\n",
    "# db = mongo_client['database_name']\n",
    "# collection = db['collection_name']\n",
    "\n",
    "# # Insert data into MongoDB collection\n",
    "# collection.insert_many(data)\n",
    "data"
   ]
  },
  {
   "cell_type": "code",
   "execution_count": null,
   "metadata": {},
   "outputs": [],
   "source": []
  }
 ],
 "metadata": {
  "kernelspec": {
   "display_name": "Python 3.8.10 64-bit",
   "language": "python",
   "name": "python3"
  },
  "language_info": {
   "codemirror_mode": {
    "name": "ipython",
    "version": 3
   },
   "file_extension": ".py",
   "mimetype": "text/x-python",
   "name": "python",
   "nbconvert_exporter": "python",
   "pygments_lexer": "ipython3",
   "version": "3.8.10"
  },
  "orig_nbformat": 4,
  "vscode": {
   "interpreter": {
    "hash": "e7370f93d1d0cde622a1f8e1c04877d8463912d04d973331ad4851f04de6915a"
   }
  }
 },
 "nbformat": 4,
 "nbformat_minor": 2
}
